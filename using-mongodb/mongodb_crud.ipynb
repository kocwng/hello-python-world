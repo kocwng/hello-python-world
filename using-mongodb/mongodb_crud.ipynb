{
 "cells": [
  {
   "cell_type": "code",
   "execution_count": 4,
   "metadata": {},
   "outputs": [],
   "source": [
    "import pymongo"
   ]
  },
  {
   "cell_type": "markdown",
   "metadata": {},
   "source": [
    "connect to MongoDB"
   ]
  },
  {
   "cell_type": "code",
   "execution_count": 6,
   "metadata": {},
   "outputs": [],
   "source": [
    "client = pymongo.MongoClient(\"mongodb://localhost:27017/\")\n",
    "db = client[\"coba\"]\n",
    "collection = db[\"coba_user\"]"
   ]
  },
  {
   "cell_type": "markdown",
   "metadata": {},
   "source": [
    "create new user"
   ]
  },
  {
   "cell_type": "code",
   "execution_count": 7,
   "metadata": {},
   "outputs": [],
   "source": [
    "def create_user(name, age, email):\n",
    "    user = {\"name\": name, \"age\": age, \"email\": email}\n",
    "    result = collection.insert_one(user)\n",
    "    print(\"User created with ID:\", result.inserted_id)"
   ]
  },
  {
   "cell_type": "markdown",
   "metadata": {},
   "source": [
    "find and read users"
   ]
  },
  {
   "cell_type": "code",
   "execution_count": 8,
   "metadata": {},
   "outputs": [],
   "source": [
    "def read_users():\n",
    "    users = collection.find()\n",
    "    for user in users:\n",
    "        print(user)"
   ]
  },
  {
   "cell_type": "markdown",
   "metadata": {},
   "source": [
    "update a user"
   ]
  },
  {
   "cell_type": "code",
   "execution_count": 9,
   "metadata": {},
   "outputs": [],
   "source": [
    "def update_user(user_id, name, age, email):\n",
    "    query = {\"_id\": user_id}\n",
    "    new_values = {\"$set\": {\"name\": name, \"age\": age, \"email\": email}}\n",
    "    result = collection.update_one(query, new_values)\n",
    "    if result.modified_count > 0:\n",
    "        print(\"user updated successfully.\")\n",
    "    else:\n",
    "        print(\"user not found or no changes made.\")"
   ]
  },
  {
   "cell_type": "markdown",
   "metadata": {},
   "source": [
    "delete a user"
   ]
  },
  {
   "cell_type": "code",
   "execution_count": 10,
   "metadata": {},
   "outputs": [],
   "source": [
    "def delete_user(user_id):\n",
    "    query = {\"_id\": user_id}\n",
    "    result = collection.delete_one(query)\n",
    "    if result.deleted_count > 0:\n",
    "        print(\"user deleted successfully.\")\n",
    "    else:\n",
    "        print(\"user not found.\")"
   ]
  },
  {
   "cell_type": "code",
   "execution_count": 15,
   "metadata": {},
   "outputs": [
    {
     "name": "stdout",
     "output_type": "stream",
     "text": [
      "User created with ID: 64c16a868c131d679b9476eb\n",
      "User created with ID: 64c16a868c131d679b9476ec\n",
      "\n",
      "all users:\n",
      "{'_id': ObjectId('64c16a868c131d679b9476eb'), 'name': 'thor', 'age': 30, 'email': 'thor@example.com'}\n",
      "{'_id': ObjectId('64c16a868c131d679b9476ec'), 'name': 'loki', 'age': 25, 'email': 'loki@example.com'}\n",
      "\n",
      "updating user...\n",
      "user updated successfully.\n",
      "\n",
      "all users after update:\n",
      "{'_id': ObjectId('64c16a868c131d679b9476eb'), 'name': 'thor', 'age': 31, 'email': 'thor.updated@example.com'}\n",
      "{'_id': ObjectId('64c16a868c131d679b9476ec'), 'name': 'loki', 'age': 25, 'email': 'loki@example.com'}\n",
      "\n",
      "deleting user...\n",
      "user deleted successfully.\n",
      "\n",
      "all users after deletion:\n",
      "{'_id': ObjectId('64c16a868c131d679b9476ec'), 'name': 'loki', 'age': 25, 'email': 'loki@example.com'}\n"
     ]
    }
   ],
   "source": [
    "if __name__ == \"__main__\":\n",
    "    create_user(\"thor\", 30, \"thor@example.com\")\n",
    "    create_user(\"loki\", 25, \"loki@example.com\")\n",
    "\n",
    "    print(\"\\nall users:\")\n",
    "    read_users()\n",
    "\n",
    "    user_id = collection.find_one({\"name\": \"thor\"})[\"_id\"]\n",
    "\n",
    "    print(\"\\nupdating user...\")\n",
    "    update_user(user_id, \"thor\", 31, \"thor.updated@example.com\")\n",
    "\n",
    "    print(\"\\nall users after update:\")\n",
    "    read_users()\n",
    "\n",
    "    print(\"\\ndeleting user...\")\n",
    "    delete_user(user_id)\n",
    "\n",
    "    print(\"\\nall users after deletion:\")\n",
    "    read_users()"
   ]
  }
 ],
 "metadata": {
  "kernelspec": {
   "display_name": "Python 3",
   "language": "python",
   "name": "python3"
  },
  "language_info": {
   "codemirror_mode": {
    "name": "ipython",
    "version": 3
   },
   "file_extension": ".py",
   "mimetype": "text/x-python",
   "name": "python",
   "nbconvert_exporter": "python",
   "pygments_lexer": "ipython3",
   "version": "3.10.11"
  },
  "orig_nbformat": 4
 },
 "nbformat": 4,
 "nbformat_minor": 2
}
